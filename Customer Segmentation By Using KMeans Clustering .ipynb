{
 "cells": [
  {
   "cell_type": "code",
   "execution_count": null,
   "id": "face3cca",
   "metadata": {},
   "outputs": [],
   "source": [
    "# Name    : Prince Dubey\n",
    "# Roll No : G23AI2014"
   ]
  },
  {
   "cell_type": "markdown",
   "id": "8a677d09",
   "metadata": {},
   "source": [
    "# Importing dependencies."
   ]
  },
  {
   "cell_type": "code",
   "execution_count": 2,
   "id": "fd4c7ec4",
   "metadata": {},
   "outputs": [],
   "source": [
    "import numpy as np\n",
    "import pandas as pd\n",
    "import matplotlib.pyplot as plt\n",
    "import seaborn as sns\n",
    "import sklearn\n",
    "from sklearn.cluster import KMeans\n",
    "import pickle\n",
    "import warnings\n",
    "warnings.filterwarnings('ignore')"
   ]
  },
  {
   "cell_type": "code",
   "execution_count": 6,
   "id": "9a4ffaa0",
   "metadata": {},
   "outputs": [
    {
     "name": "stdout",
     "output_type": "stream",
     "text": [
      "numpy   : 1.21.5\n",
      "sklearn : 1.0.2\n",
      "pandas  : 1.4.2\n",
      "seaborn : 0.11.2\n",
      "Python version is :3.9.12 (main, Apr  4 2022, 05:22:27) [MSC v.1916 64 bit (AMD64)] \n"
     ]
    }
   ],
   "source": [
    "#Printing versions of the libraries for future use\n",
    "\n",
    "print(\"numpy   :\", np.__version__)\n",
    "print(\"sklearn :\", sklearn.__version__)\n",
    "print(\"pandas  :\", pd.__version__)\n",
    "print(\"seaborn :\", sns.__version__)\n",
    "import sys\n",
    "print(f\"Python version is :{ sys.version} \")\n"
   ]
  },
  {
   "cell_type": "markdown",
   "id": "9b370092",
   "metadata": {},
   "source": [
    "# Loading dataset and analysis "
   ]
  },
  {
   "cell_type": "code",
   "execution_count": 69,
   "id": "ac1f4c8a",
   "metadata": {},
   "outputs": [],
   "source": [
    "customer_data=pd.read_csv(\"Mall_Customers.csv\")"
   ]
  },
  {
   "cell_type": "code",
   "execution_count": 70,
   "id": "6eaad01c",
   "metadata": {},
   "outputs": [
    {
     "data": {
      "text/html": [
       "<div>\n",
       "<style scoped>\n",
       "    .dataframe tbody tr th:only-of-type {\n",
       "        vertical-align: middle;\n",
       "    }\n",
       "\n",
       "    .dataframe tbody tr th {\n",
       "        vertical-align: top;\n",
       "    }\n",
       "\n",
       "    .dataframe thead th {\n",
       "        text-align: right;\n",
       "    }\n",
       "</style>\n",
       "<table border=\"1\" class=\"dataframe\">\n",
       "  <thead>\n",
       "    <tr style=\"text-align: right;\">\n",
       "      <th></th>\n",
       "      <th>CustomerID</th>\n",
       "      <th>Gender</th>\n",
       "      <th>Age</th>\n",
       "      <th>Annual Income (k$)</th>\n",
       "      <th>Spending Score (1-100)</th>\n",
       "    </tr>\n",
       "  </thead>\n",
       "  <tbody>\n",
       "    <tr>\n",
       "      <th>0</th>\n",
       "      <td>1</td>\n",
       "      <td>Male</td>\n",
       "      <td>19</td>\n",
       "      <td>15</td>\n",
       "      <td>39</td>\n",
       "    </tr>\n",
       "    <tr>\n",
       "      <th>1</th>\n",
       "      <td>2</td>\n",
       "      <td>Male</td>\n",
       "      <td>21</td>\n",
       "      <td>15</td>\n",
       "      <td>81</td>\n",
       "    </tr>\n",
       "    <tr>\n",
       "      <th>2</th>\n",
       "      <td>3</td>\n",
       "      <td>Female</td>\n",
       "      <td>20</td>\n",
       "      <td>16</td>\n",
       "      <td>6</td>\n",
       "    </tr>\n",
       "    <tr>\n",
       "      <th>3</th>\n",
       "      <td>4</td>\n",
       "      <td>Female</td>\n",
       "      <td>23</td>\n",
       "      <td>16</td>\n",
       "      <td>77</td>\n",
       "    </tr>\n",
       "    <tr>\n",
       "      <th>4</th>\n",
       "      <td>5</td>\n",
       "      <td>Female</td>\n",
       "      <td>31</td>\n",
       "      <td>17</td>\n",
       "      <td>40</td>\n",
       "    </tr>\n",
       "  </tbody>\n",
       "</table>\n",
       "</div>"
      ],
      "text/plain": [
       "   CustomerID  Gender  Age  Annual Income (k$)  Spending Score (1-100)\n",
       "0           1    Male   19                  15                      39\n",
       "1           2    Male   21                  15                      81\n",
       "2           3  Female   20                  16                       6\n",
       "3           4  Female   23                  16                      77\n",
       "4           5  Female   31                  17                      40"
      ]
     },
     "execution_count": 70,
     "metadata": {},
     "output_type": "execute_result"
    }
   ],
   "source": [
    "customer_data.head()"
   ]
  },
  {
   "cell_type": "code",
   "execution_count": null,
   "id": "2adbf736",
   "metadata": {},
   "outputs": [],
   "source": [
    "customer_data.shape"
   ]
  },
  {
   "cell_type": "code",
   "execution_count": null,
   "id": "dc5bb0ab",
   "metadata": {},
   "outputs": [],
   "source": [
    "customer_data.info()"
   ]
  },
  {
   "cell_type": "code",
   "execution_count": null,
   "id": "ba834154",
   "metadata": {},
   "outputs": [],
   "source": [
    "# Checking for missing values in dataset \n",
    "customer_data.isnull().sum()"
   ]
  },
  {
   "cell_type": "code",
   "execution_count": null,
   "id": "ef55ac23",
   "metadata": {
    "scrolled": true
   },
   "outputs": [],
   "source": [
    "# Ploating chart to check the distribution of the data to find outliers\n",
    "\n",
    "plt.figure(figsize=(16,5))\n",
    "\n",
    "#Checking distribution of customer age\n",
    "\n",
    "plt.subplot(1,3,1)\n",
    "sns.distplot(customer_data['Age'])\n",
    "plt.title('Distribution of Age')\n",
    "plt.xlabel('Rangeof Age')\n",
    "plt.ylabel('Count')\n",
    "\n",
    "#Checking distribution of customer's Anual income range\n",
    "\n",
    "plt.subplot(1, 3,2)\n",
    "sns.distplot(customer_data['Annual Income (k$)'])\n",
    "plt.title(\"Disrbution of Income\")\n",
    "plt.xlabel(\"Range of Income\")\n",
    "plt.ylabel(\"Count\")\n",
    "\n",
    "#Checking distribution of customer's spending score\n",
    "\n",
    "plt.subplot(1, 3, 3)\n",
    "sns.distplot(customer_data['Spending Score (1-100)'])\n",
    "plt.title(\"Disrbution of Spending Score\")\n",
    "plt.xlabel(\"Range of Spending Score\")\n",
    "plt.ylabel(\"Count\")\n",
    "plt.show()\n"
   ]
  },
  {
   "cell_type": "code",
   "execution_count": null,
   "id": "d35cd90a",
   "metadata": {},
   "outputs": [],
   "source": [
    "#checking who is spending more male or female.\n",
    "\n",
    "df=customer_data.groupby('Gender').size()\n",
    "df.plot(kind='pie', subplots = True, colors = ['lightgray', 'lightblue'],explode = [0, 0.001],\n",
    "        labels = ['Female', 'Male'],autopct = '%.2f%%' )\n",
    "plt.title(\"Gender Disribution\")\n",
    "plt.ylabel(\"\")\n",
    "plt.show()\n"
   ]
  },
  {
   "cell_type": "code",
   "execution_count": null,
   "id": "1a7f9dab",
   "metadata": {},
   "outputs": [],
   "source": [
    "#checking the correlation between the features \n",
    "sns.heatmap(customer_data.corr(),annot=True)"
   ]
  },
  {
   "cell_type": "code",
   "execution_count": null,
   "id": "ae2e9c6b",
   "metadata": {},
   "outputs": [],
   "source": [
    "#checking distribution of age against annual income\n",
    "plt.figure(figsize=(15,7))\n",
    "for gender in ['Male', 'Female']:\n",
    "    plt.scatter(x = 'Age', y = 'Annual Income (k$)', data = customer_data[customer_data['Gender'] == gender],\n",
    "                s = 200, alpha = 0.5,marker=\"^\",edgecolor =\"Black\",linewidths = 2,label = gender)\n",
    "    \n",
    "plt.xlabel(\"Age\")\n",
    "plt.ylabel(\"Annual Income\")\n",
    "plt.title(\"Age vs Annual Income\")\n",
    "plt.legend()\n",
    "plt.show()\n"
   ]
  },
  {
   "cell_type": "code",
   "execution_count": null,
   "id": "b61742e5",
   "metadata": {},
   "outputs": [],
   "source": [
    "#checking distribution of age against annual income\n",
    "plt.figure(figsize=(15,7))\n",
    "\n",
    "for gender in ['Male', 'Female']:\n",
    "    plt.scatter(x = 'Annual Income (k$)' , y = 'Spending Score (1-100)', data = customer_data[customer_data['Gender'] == gender],\n",
    "                s = 200, alpha = 0.5,marker=\"^\",edgecolor =\"Black\",linewidths = 2,label = gender)\n",
    "plt.xlabel('Annual Income (k$)')\n",
    "plt.ylabel('Spending Score (1-100)') \n",
    "plt.title('Annual Income (k$) vsSpending Score (1-100)')\n",
    "plt.legend()\n",
    "plt.show()"
   ]
  },
  {
   "cell_type": "markdown",
   "id": "3317d0fb",
   "metadata": {},
   "source": [
    "# Now working towards building model"
   ]
  },
  {
   "cell_type": "code",
   "execution_count": null,
   "id": "c07f0f96",
   "metadata": {},
   "outputs": [],
   "source": [
    "#collecting required columns to build the model. \n",
    "# As we know Customer ID, Age, and Gender does \n",
    "#not making much contribution in classinfying the segmentation we will take only columns 3 and 4\n",
    "\n",
    "X=customer_data.iloc[:,[3,4]].values"
   ]
  },
  {
   "cell_type": "code",
   "execution_count": null,
   "id": "378315a1",
   "metadata": {
    "scrolled": true
   },
   "outputs": [],
   "source": [
    "print(X)"
   ]
  },
  {
   "cell_type": "code",
   "execution_count": 54,
   "id": "2f38a23f",
   "metadata": {},
   "outputs": [],
   "source": [
    "# As we dont know how many cluster could be in our dataset \n",
    "# hence we could find that by using formula called WCSS - Within clusters sum of squares\n",
    "# We will be using elbow graph to find optimum numbers of clusters\n",
    "\n",
    "wcss=[]\n",
    "\n",
    "for i in range(1,11):\n",
    "    kmeans=KMeans(n_clusters=i, init=\"k-means++\",random_state=42)\n",
    "    kmeans.fit(X)\n",
    "    \n",
    "    wcss.append(kmeans.inertia_)\n",
    "    \n",
    "\n"
   ]
  },
  {
   "cell_type": "code",
   "execution_count": 57,
   "id": "fec78b25",
   "metadata": {},
   "outputs": [
    {
     "data": {
      "text/plain": [
       "Text(0, 0.5, 'WCSS')"
      ]
     },
     "execution_count": 57,
     "metadata": {},
     "output_type": "execute_result"
    },
    {
     "data": {
      "image/png": "[encoded data removed]",
      "text/plain": [
       "<Figure size 432x288 with 1 Axes>"
      ]
     },
     "metadata": {},
     "output_type": "display_data"
    }
   ],
   "source": [
    "#Ploting elbow method\n",
    "\n",
    "sns.set()\n",
    "plt.plot(range(1,11), wcss)\n",
    "plt.title('The Elbow point graph')\n",
    "plt.xlabel('Number of Clusters')\n",
    "plt.ylabel('WCSS')\n"
   ]
  },
  {
   "cell_type": "code",
   "execution_count": 59,
   "id": "4c217a10",
   "metadata": {},
   "outputs": [],
   "source": [
    "# Looking at the elbow chart we can see there is no significant downfall in curve after 4th clusters hence we will choose 5 as\n",
    "# optimum numbers of clusters for our dataset\n",
    "\n",
    "#Optimum number of clusters = 5"
   ]
  },
  {
   "cell_type": "markdown",
   "id": "96fe8ae1",
   "metadata": {},
   "source": [
    "# Training K-Means model "
   ]
  },
  {
   "cell_type": "code",
   "execution_count": 62,
   "id": "e5fac1e9",
   "metadata": {},
   "outputs": [
    {
     "name": "stdout",
     "output_type": "stream",
     "text": [
      "[4 3 4 3 4 3 4 3 4 3 4 3 4 3 4 3 4 3 4 3 4 3 4 3 4 3 4 3 4 3 4 3 4 3 4 3 4\n",
      " 3 4 3 4 3 4 1 4 3 1 1 1 1 1 1 1 1 1 1 1 1 1 1 1 1 1 1 1 1 1 1 1 1 1 1 1 1\n",
      " 1 1 1 1 1 1 1 1 1 1 1 1 1 1 1 1 1 1 1 1 1 1 1 1 1 1 1 1 1 1 1 1 1 1 1 1 1\n",
      " 1 1 1 1 1 1 1 1 1 1 1 1 2 0 2 1 2 0 2 0 2 1 2 0 2 0 2 0 2 0 2 1 2 0 2 0 2\n",
      " 0 2 0 2 0 2 0 2 0 2 0 2 0 2 0 2 0 2 0 2 0 2 0 2 0 2 0 2 0 2 0 2 0 2 0 2 0\n",
      " 2 0 2 0 2 0 2 0 2 0 2 0 2 0 2]\n"
     ]
    }
   ],
   "source": [
    "kmeans=KMeans(n_clusters=5, init=\"k-means++\",random_state=0)\n",
    "Y=kmeans.fit_predict(X)\n",
    "print(Y)"
   ]
  },
  {
   "cell_type": "markdown",
   "id": "797992f0",
   "metadata": {},
   "source": [
    "# Visualising the clusters "
   ]
  },
  {
   "cell_type": "code",
   "execution_count": 67,
   "id": "5596dc1a",
   "metadata": {},
   "outputs": [
    {
     "data": {
      "image/png": "[encoded data removed]",
      "text/plain": [
       "<Figure size 576x576 with 1 Axes>"
      ]
     },
     "metadata": {},
     "output_type": "display_data"
    }
   ],
   "source": [
    "plt.figure(figsize=(8,8))\n",
    "plt.scatter(X[Y==0,0],X[Y==0,1],s=50, c='Green', label='Cluster - 1')\n",
    "plt.scatter(X[Y==1,0],X[Y==1,1],s=50, c='Blue', label='Cluster - 2')\n",
    "plt.scatter(X[Y==2,0],X[Y==2,1],s=50, c='Gray', label='Cluster - 3')\n",
    "plt.scatter(X[Y==3,0],X[Y==3,1],s=50, c='Red', label='Cluster - 4')\n",
    "plt.scatter(X[Y==4,0],X[Y==4,1],s=50, c='Yellow', label='Cluster - 5')\n",
    "\n",
    "# ploatting the centroid \n",
    "plt.scatter(kmeans.cluster_centers_[:,0],kmeans.cluster_centers_[:,1],s=100, c='cyan', label='centroids')\n",
    "\n",
    "plt.title(\"Customer's Group\")\n",
    "plt.xlabel('Annual Income')\n",
    "plt.ylabel('Spending score')\n",
    "\n",
    "plt.show()"
   ]
  },
  {
   "cell_type": "markdown",
   "id": "395a1939",
   "metadata": {},
   "source": [
    "# Creating model for deployment"
   ]
  },
  {
   "cell_type": "code",
   "execution_count": 81,
   "id": "1ff39edf",
   "metadata": {},
   "outputs": [],
   "source": [
    "with open('model.pkl','wb') as file:\n",
    "    pickle.dump(kmeans,file)\n",
    "    "
   ]
  },
  {
   "cell_type": "code",
   "execution_count": null,
   "id": "4f474eea",
   "metadata": {},
   "outputs": [],
   "source": []
  }
 ],
 "metadata": {
  "kernelspec": {
   "display_name": "Python 3 (ipykernel)",
   "language": "python",
   "name": "python3"
  },
  "language_info": {
   "codemirror_mode": {
    "name": "ipython",
    "version": 3
   },
   "file_extension": ".py",
   "mimetype": "text/x-python",
   "name": "python",
   "nbconvert_exporter": "python",
   "pygments_lexer": "ipython3",
   "version": "3.9.12"
  }
 },
 "nbformat": 4,
 "nbformat_minor": 5
}
